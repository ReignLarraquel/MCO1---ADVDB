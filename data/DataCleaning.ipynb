{
 "cells": [
  {
   "cell_type": "markdown",
   "metadata": {},
   "source": [
    "## STADVDB GROUP 10\n",
    "# Members:\n",
    "* Wray Nathan Andres\n",
    "* Reign Elaiza Larraquel\n",
    "* Isaiah Sam Pascual\n",
    "* Benmar Sim Ramirez"
   ]
  },
  {
   "cell_type": "markdown",
   "metadata": {},
   "source": [
    "# Import"
   ]
  },
  {
   "cell_type": "code",
   "execution_count": 1,
   "metadata": {},
   "outputs": [],
   "source": [
    "import pandas as pd"
   ]
  },
  {
   "cell_type": "markdown",
   "metadata": {},
   "source": [
    "# Reading the Data Set"
   ]
  },
  {
   "cell_type": "code",
   "execution_count": 2,
   "metadata": {},
   "outputs": [
    {
     "name": "stdout",
     "output_type": "stream",
     "text": [
      "<class 'pandas.core.frame.DataFrame'>\n",
      "RangeIndex: 53962 entries, 0 to 53961\n",
      "Data columns (total 6 columns):\n",
      " #   Column        Non-Null Count  Dtype \n",
      "---  ------        --------------  ----- \n",
      " 0   clinicid      53962 non-null  object\n",
      " 1   hospitalname  17538 non-null  object\n",
      " 2   IsHospital    53962 non-null  bool  \n",
      " 3   City          53962 non-null  object\n",
      " 4   Province      53962 non-null  object\n",
      " 5   RegionName    53962 non-null  object\n",
      "dtypes: bool(1), object(5)\n",
      "memory usage: 2.1+ MB\n"
     ]
    }
   ],
   "source": [
    "clinics_df = pd.read_csv(\"smd-ns-appointments\\\\clinics.csv\", encoding='ISO-8859-1')\n",
    "\n",
    "clinics_df.info()"
   ]
  },
  {
   "cell_type": "code",
   "execution_count": 22,
   "metadata": {},
   "outputs": [
    {
     "name": "stdout",
     "output_type": "stream",
     "text": [
      "<class 'pandas.core.frame.DataFrame'>\n",
      "RangeIndex: 6507813 entries, 0 to 6507812\n",
      "Data columns (total 3 columns):\n",
      " #   Column  Dtype \n",
      "---  ------  ----- \n",
      " 0   pxid    object\n",
      " 1   age     object\n",
      " 2   gender  object\n",
      "dtypes: object(3)\n",
      "memory usage: 149.0+ MB\n"
     ]
    }
   ],
   "source": [
    "px_df = pd.read_csv(\"smd-ns-appointments\\\\px.csv\", encoding='ISO-8859-1')\n",
    "\n",
    "px_df.info()"
   ]
  },
  {
   "cell_type": "code",
   "execution_count": 23,
   "metadata": {},
   "outputs": [
    {
     "name": "stdout",
     "output_type": "stream",
     "text": [
      "<class 'pandas.core.frame.DataFrame'>\n",
      "RangeIndex: 60024 entries, 0 to 60023\n",
      "Data columns (total 3 columns):\n",
      " #   Column         Non-Null Count  Dtype  \n",
      "---  ------         --------------  -----  \n",
      " 0   doctorid       60024 non-null  object \n",
      " 1   mainspecialty  27055 non-null  object \n",
      " 2   age            20028 non-null  float64\n",
      "dtypes: float64(1), object(2)\n",
      "memory usage: 1.4+ MB\n"
     ]
    }
   ],
   "source": [
    "doctors_df = pd.read_csv(\"smd-ns-appointments\\\\doctors.csv\", encoding='ISO-8859-1')\n",
    "\n",
    "doctors_df.info()"
   ]
  },
  {
   "cell_type": "code",
   "execution_count": 24,
   "metadata": {},
   "outputs": [],
   "source": [
    "appointments_df = pd.read_csv(\"smd-ns-appointments\\\\appointments.csv\", encoding='ISO-8859-1')\n",
    "\n",
    "appointments_df.info()"
   ]
  },
  {
   "cell_type": "markdown",
   "metadata": {},
   "source": [
    "# Cleaning of data"
   ]
  },
  {
   "cell_type": "markdown",
   "metadata": {},
   "source": [
    "Clinics"
   ]
  },
  {
   "cell_type": "code",
   "execution_count": 3,
   "metadata": {},
   "outputs": [
    {
     "name": "stdout",
     "output_type": "stream",
     "text": [
      "<class 'pandas.core.frame.DataFrame'>\n",
      "RangeIndex: 53962 entries, 0 to 53961\n",
      "Data columns (total 6 columns):\n",
      " #   Column        Non-Null Count  Dtype \n",
      "---  ------        --------------  ----- \n",
      " 0   clinicid      53962 non-null  object\n",
      " 1   hospitalname  17538 non-null  object\n",
      " 2   IsHospital    53962 non-null  bool  \n",
      " 3   City          53962 non-null  object\n",
      " 4   Province      53962 non-null  object\n",
      " 5   RegionName    53962 non-null  object\n",
      "dtypes: bool(1), object(5)\n",
      "memory usage: 2.1+ MB\n"
     ]
    }
   ],
   "source": [
    "clinics_df = pd.read_csv(\"smd-ns-appointments\\\\clinics.csv\", encoding='ISO-8859-1')\n",
    "\n",
    "clinics_df.info()"
   ]
  },
  {
   "cell_type": "code",
   "execution_count": 4,
   "metadata": {},
   "outputs": [
    {
     "data": {
      "text/plain": [
       "IsHospital\n",
       "False    36424\n",
       "True     17538\n",
       "Name: count, dtype: int64"
      ]
     },
     "execution_count": 4,
     "metadata": {},
     "output_type": "execute_result"
    }
   ],
   "source": [
    "clinics_df['IsHospital'].value_counts()"
   ]
  },
  {
   "cell_type": "code",
   "execution_count": 5,
   "metadata": {},
   "outputs": [
    {
     "data": {
      "text/plain": [
       "(53962, 6)"
      ]
     },
     "execution_count": 5,
     "metadata": {},
     "output_type": "execute_result"
    }
   ],
   "source": [
    "clinics_df.shape"
   ]
  },
  {
   "cell_type": "code",
   "execution_count": 6,
   "metadata": {},
   "outputs": [
    {
     "name": "stdout",
     "output_type": "stream",
     "text": [
      "['hospitalname']\n"
     ]
    }
   ],
   "source": [
    "nan_variables = clinics_df.columns[clinics_df.isnull().any()].tolist()\n",
    "dropped_variables = list(set(nan_variables) - set('hospitalname'))\n",
    "print(dropped_variables)\n",
    "clinics_df = clinics_df.dropna(axis=0, subset=dropped_variables)"
   ]
  },
  {
   "cell_type": "code",
   "execution_count": 7,
   "metadata": {},
   "outputs": [
    {
     "data": {
      "text/plain": [
       "(17538, 6)"
      ]
     },
     "execution_count": 7,
     "metadata": {},
     "output_type": "execute_result"
    }
   ],
   "source": [
    "clinics_df.shape"
   ]
  },
  {
   "cell_type": "code",
   "execution_count": 12,
   "metadata": {},
   "outputs": [
    {
     "data": {
      "text/plain": [
       "hospitalname\n",
       "Asian Hospital and Medical Center        466\n",
       "The Medical City                         460\n",
       "St. Luke's Medical Center-Global City    449\n",
       "Makati Medical Center                    425\n",
       "St. Luke's Medical Center-Quezon City    387\n",
       "                                        ... \n",
       "Dr. Cabuco Hospital                        1\n",
       "Davao Mediquest Hospital                   1\n",
       "Cabiao General Hospital, Inc.              1\n",
       "Mexico Community Hospital                  1\n",
       "Alegre Medical Clinic                      1\n",
       "Name: count, Length: 1127, dtype: int64"
      ]
     },
     "execution_count": 12,
     "metadata": {},
     "output_type": "execute_result"
    }
   ],
   "source": [
    "clinics_df['hospitalname'].value_counts()"
   ]
  }
 ],
 "metadata": {
  "kernelspec": {
   "display_name": "Python 3",
   "language": "python",
   "name": "python3"
  },
  "language_info": {
   "codemirror_mode": {
    "name": "ipython",
    "version": 3
   },
   "file_extension": ".py",
   "mimetype": "text/x-python",
   "name": "python",
   "nbconvert_exporter": "python",
   "pygments_lexer": "ipython3",
   "version": "3.11.8"
  }
 },
 "nbformat": 4,
 "nbformat_minor": 2
}
