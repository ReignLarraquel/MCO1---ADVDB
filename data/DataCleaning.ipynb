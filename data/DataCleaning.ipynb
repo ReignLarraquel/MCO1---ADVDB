{
 "cells": [
  {
   "cell_type": "code",
   "execution_count": 1,
   "metadata": {},
   "outputs": [],
   "source": [
    "import numpy as np\n",
    "import pandas as pd"
   ]
  },
  {
   "cell_type": "code",
   "execution_count": 2,
   "metadata": {},
   "outputs": [
    {
     "name": "stdout",
     "output_type": "stream",
     "text": [
      "<class 'pandas.core.frame.DataFrame'>\n",
      "RangeIndex: 60024 entries, 0 to 60023\n",
      "Data columns (total 3 columns):\n",
      " #   Column         Non-Null Count  Dtype  \n",
      "---  ------         --------------  -----  \n",
      " 0   doctorid       60024 non-null  object \n",
      " 1   mainspecialty  27055 non-null  object \n",
      " 2   age            20028 non-null  float64\n",
      "dtypes: float64(1), object(2)\n",
      "memory usage: 1.4+ MB\n"
     ]
    }
   ],
   "source": [
    "doctors_df = pd.read_csv(\"smd-ns-appointments\\doctors.csv\", encoding='ISO-8859-1')\n",
    "\n",
    "doctors_df.info()"
   ]
  },
  {
   "cell_type": "code",
   "execution_count": 3,
   "metadata": {},
   "outputs": [
    {
     "name": "stdout",
     "output_type": "stream",
     "text": [
      "<class 'pandas.core.frame.DataFrame'>\n",
      "RangeIndex: 53962 entries, 0 to 53961\n",
      "Data columns (total 6 columns):\n",
      " #   Column        Non-Null Count  Dtype \n",
      "---  ------        --------------  ----- \n",
      " 0   clinicid      53962 non-null  object\n",
      " 1   hospitalname  17538 non-null  object\n",
      " 2   IsHospital    53962 non-null  bool  \n",
      " 3   City          53962 non-null  object\n",
      " 4   Province      53962 non-null  object\n",
      " 5   RegionName    53962 non-null  object\n",
      "dtypes: bool(1), object(5)\n",
      "memory usage: 2.1+ MB\n"
     ]
    }
   ],
   "source": [
    "clinics_df = pd.read_csv(\"smd-ns-appointments\\clinics.csv\", encoding='ISO-8859-1')\n",
    "\n",
    "clinics_df.info()"
   ]
  }
 ],
 "metadata": {
  "kernelspec": {
   "display_name": "Python 3",
   "language": "python",
   "name": "python3"
  },
  "language_info": {
   "codemirror_mode": {
    "name": "ipython",
    "version": 3
   },
   "file_extension": ".py",
   "mimetype": "text/x-python",
   "name": "python",
   "nbconvert_exporter": "python",
   "pygments_lexer": "ipython3",
   "version": "3.11.8"
  }
 },
 "nbformat": 4,
 "nbformat_minor": 2
}
