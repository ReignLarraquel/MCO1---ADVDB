{
 "cells": [
  {
   "cell_type": "markdown",
   "metadata": {},
   "source": [
    "## STADVDB GROUP 10\n",
    "# Members:\n",
    "* Wray Nathan Andres\n",
    "* Reign Elaiza Larraquel\n",
    "* Isaiah Sam Pascual\n",
    "* Benmar Sim Ramirez"
   ]
  },
  {
   "cell_type": "markdown",
   "metadata": {},
   "source": []
  },
  {
   "cell_type": "markdown",
   "metadata": {},
   "source": [
    "# Import"
   ]
  },
  {
   "cell_type": "code",
   "execution_count": 46,
   "metadata": {},
   "outputs": [],
   "source": [
    "import pandas as pd\n",
    "import os \n",
    "\n",
    "current_dir = os.getcwd()"
   ]
  },
  {
   "cell_type": "markdown",
   "metadata": {},
   "source": [
    "# Reading the Data Set"
   ]
  },
  {
   "cell_type": "code",
   "execution_count": 47,
   "metadata": {},
   "outputs": [
    {
     "name": "stdout",
     "output_type": "stream",
     "text": [
      "<class 'pandas.core.frame.DataFrame'>\n",
      "RangeIndex: 53962 entries, 0 to 53961\n",
      "Data columns (total 6 columns):\n",
      " #   Column        Non-Null Count  Dtype \n",
      "---  ------        --------------  ----- \n",
      " 0   clinicid      53962 non-null  object\n",
      " 1   hospitalname  17538 non-null  object\n",
      " 2   IsHospital    53962 non-null  bool  \n",
      " 3   City          53962 non-null  object\n",
      " 4   Province      53962 non-null  object\n",
      " 5   RegionName    53962 non-null  object\n",
      "dtypes: bool(1), object(5)\n",
      "memory usage: 2.1+ MB\n"
     ]
    }
   ],
   "source": [
    "clinics_df = pd.read_csv(f\"{current_dir}/smd-ns-appointments/clinics.csv\", encoding='ISO-8859-1')\n",
    "\n",
    "clinics_df.info()"
   ]
  },
  {
   "cell_type": "code",
   "execution_count": 48,
   "metadata": {},
   "outputs": [
    {
     "name": "stderr",
     "output_type": "stream",
     "text": [
      "/tmp/ipykernel_94940/2663833823.py:1: DtypeWarning: Columns (1) have mixed types. Specify dtype option on import or set low_memory=False.\n",
      "  px_df = pd.read_csv(f\"{current_dir}/smd-ns-appointments/px.csv\", encoding='ISO-8859-1')\n"
     ]
    },
    {
     "name": "stdout",
     "output_type": "stream",
     "text": [
      "<class 'pandas.core.frame.DataFrame'>\n",
      "RangeIndex: 6507813 entries, 0 to 6507812\n",
      "Data columns (total 3 columns):\n",
      " #   Column  Dtype \n",
      "---  ------  ----- \n",
      " 0   pxid    object\n",
      " 1   age     object\n",
      " 2   gender  object\n",
      "dtypes: object(3)\n",
      "memory usage: 149.0+ MB\n"
     ]
    }
   ],
   "source": [
    "px_df = pd.read_csv(f\"{current_dir}/smd-ns-appointments/px.csv\", encoding='ISO-8859-1')\n",
    "\n",
    "px_df.info()"
   ]
  },
  {
   "cell_type": "code",
   "execution_count": 49,
   "metadata": {},
   "outputs": [
    {
     "name": "stdout",
     "output_type": "stream",
     "text": [
      "                               doctorid         mainspecialty   age\n",
      "0      AD61AB143223EFBC24C7D2583BE69251      General Medicine  41.0\n",
      "1      D09BF41544A3365A46C9077EBB5E35C3       Family Medicine  43.0\n",
      "2      FBD7939D674997CDB4692D34DE8633C4     Vascular Medicine  26.0\n",
      "3      28DD2C7955CE926456240B2FF0100BDE     Otolaryngologists  34.0\n",
      "4      35F4A8D465E6E1EDC05F3D8AB658C551     General Dentistry  50.0\n",
      "...                                 ...                   ...   ...\n",
      "60019  CD532DBEF6547A66D2138FAB49AA3B94  General Practitioner  33.0\n",
      "60020  4473D870B5E31FAA40D2C45E1FF6DC27                   NaN   NaN\n",
      "60021  A4F554EB2C0934E7FDE2511E8C1573BA                   NaN   NaN\n",
      "60022  E540A361D93D37A33BB2F55D43DA79D9  General Practitioner   NaN\n",
      "60023  23BA85862DD19C3550E7C0F0AF84C7ED     Internal Medicine  38.0\n",
      "\n",
      "[60024 rows x 3 columns]\n",
      "--------------------------------------------------------------------------------------\n",
      "[  41.   43.   26.   34.   50.   62.   38.   57.   44.   59.   39.   49.\n",
      "   55.   37.   nan   40.   48.   51.   46.   45.   54.   61.   60.   31.\n",
      "   65.   36.   72.   64.   35.   47.   33.   68.   42.   73.   53.   58.\n",
      "   71.   52.   56.   67.   63.   66.   81.   69.  160.   70. 1048.   32.\n",
      "   91.   75.   30.   78.   76.   27.   29.   74.    8.    7.   28.  124.\n",
      "  123.   80.  113.   24.   25.   92.   77.  104.   23.   83.    4.   86.\n",
      "   88.   21.   22.   84.   79.  944.   17.  132.   85.  938.]\n",
      "--------------------------------------------------------------------------------------\n",
      "['General Medicine' 'Family Medicine' 'Vascular Medicine' ...\n",
      " 'Bone alignment therapy' 'Healot Biomekaniks' 'Allergist']\n",
      "<class 'pandas.core.frame.DataFrame'>\n",
      "RangeIndex: 60024 entries, 0 to 60023\n",
      "Data columns (total 3 columns):\n",
      " #   Column         Non-Null Count  Dtype  \n",
      "---  ------         --------------  -----  \n",
      " 0   doctorid       60024 non-null  object \n",
      " 1   mainspecialty  27175 non-null  object \n",
      " 2   age            20028 non-null  float64\n",
      "dtypes: float64(1), object(2)\n",
      "memory usage: 1.4+ MB\n"
     ]
    }
   ],
   "source": [
    "doctors_df = pd.read_csv(f\"{current_dir}/smd-ns-appointments/doctors.csv\", encoding='ISO-8859-1')\n",
    "\n",
    "doctors_duplicate = doctors_df[doctors_df.duplicated()]\n",
    "\n",
    "print(doctors_df)\n",
    "print(\"--------------------------------------------------------------------------------------\")\n",
    "print(doctors_df['age'].unique())\n",
    "print(\"--------------------------------------------------------------------------------------\")\n",
    "print(doctors_df['mainspecialty'].unique())\n",
    "\n",
    "doctors_df.info()"
   ]
  },
  {
   "cell_type": "markdown",
   "metadata": {},
   "source": [
    "# Cleaning of data"
   ]
  },
  {
   "cell_type": "markdown",
   "metadata": {},
   "source": [
    "Clinics"
   ]
  },
  {
   "cell_type": "code",
   "execution_count": 50,
   "metadata": {},
   "outputs": [
    {
     "name": "stdout",
     "output_type": "stream",
     "text": [
      "Empty DataFrame\n",
      "Columns: [clinicid, hospitalname, IsHospital, City, Province, RegionName]\n",
      "Index: []\n"
     ]
    }
   ],
   "source": [
    "clinics_df = pd.read_csv(f\"{current_dir}/smd-ns-appointments/clinics.csv\", encoding='ISO-8859-1')\n",
    "\n",
    "# print(clinics_df['RegionName'].unique())\n",
    "\n",
    "clinics_duplicate = clinics_df[clinics_df.duplicated()]\n",
    "\n",
    "print(clinics_duplicate)\n",
    "\n",
    "#clinics_df.info()"
   ]
  },
  {
   "cell_type": "code",
   "execution_count": 51,
   "metadata": {},
   "outputs": [
    {
     "data": {
      "text/plain": [
       "False    36424\n",
       "True     17538\n",
       "Name: IsHospital, dtype: int64"
      ]
     },
     "execution_count": 51,
     "metadata": {},
     "output_type": "execute_result"
    }
   ],
   "source": [
    "clinics_df['IsHospital'].value_counts()"
   ]
  },
  {
   "cell_type": "code",
   "execution_count": 52,
   "metadata": {},
   "outputs": [
    {
     "data": {
      "text/plain": [
       "(53962, 6)"
      ]
     },
     "execution_count": 52,
     "metadata": {},
     "output_type": "execute_result"
    }
   ],
   "source": [
    "clinics_df.shape"
   ]
  },
  {
   "cell_type": "code",
   "execution_count": 53,
   "metadata": {},
   "outputs": [
    {
     "name": "stdout",
     "output_type": "stream",
     "text": [
      "['hospitalname']\n"
     ]
    }
   ],
   "source": [
    "nan_variables = clinics_df.columns[clinics_df.isnull().any()].tolist()\n",
    "dropped_variables = list(set(nan_variables) - set('hospitalname'))\n",
    "print(dropped_variables)\n",
    "clinics_df = clinics_df.dropna(axis=0, subset=dropped_variables)"
   ]
  },
  {
   "cell_type": "code",
   "execution_count": 54,
   "metadata": {},
   "outputs": [
    {
     "data": {
      "text/plain": [
       "(17538, 6)"
      ]
     },
     "execution_count": 54,
     "metadata": {},
     "output_type": "execute_result"
    }
   ],
   "source": [
    "clinics_df.shape"
   ]
  },
  {
   "cell_type": "code",
   "execution_count": 55,
   "metadata": {},
   "outputs": [
    {
     "data": {
      "text/plain": [
       "Asian Hospital and Medical Center        466\n",
       "The Medical City                         460\n",
       "St. Luke's Medical Center-Global City    449\n",
       "Makati Medical Center                    425\n",
       "St. Luke's Medical Center-Quezon City    387\n",
       "                                        ... \n",
       "Dr. Cabuco Hospital                        1\n",
       "Davao Mediquest Hospital                   1\n",
       "Cabiao General Hospital, Inc.              1\n",
       "Mexico Community Hospital                  1\n",
       "Alegre Medical Clinic                      1\n",
       "Name: hospitalname, Length: 1127, dtype: int64"
      ]
     },
     "execution_count": 55,
     "metadata": {},
     "output_type": "execute_result"
    }
   ],
   "source": [
    "clinics_df['hospitalname'].value_counts()"
   ]
  },
  {
   "cell_type": "markdown",
   "metadata": {},
   "source": [
    "px"
   ]
  },
  {
   "cell_type": "code",
   "execution_count": 56,
   "metadata": {},
   "outputs": [
    {
     "name": "stderr",
     "output_type": "stream",
     "text": [
      "/tmp/ipykernel_94940/2663833823.py:1: DtypeWarning: Columns (1) have mixed types. Specify dtype option on import or set low_memory=False.\n",
      "  px_df = pd.read_csv(f\"{current_dir}/smd-ns-appointments/px.csv\", encoding='ISO-8859-1')\n"
     ]
    },
    {
     "name": "stdout",
     "output_type": "stream",
     "text": [
      "<class 'pandas.core.frame.DataFrame'>\n",
      "RangeIndex: 6507813 entries, 0 to 6507812\n",
      "Data columns (total 3 columns):\n",
      " #   Column  Dtype \n",
      "---  ------  ----- \n",
      " 0   pxid    object\n",
      " 1   age     object\n",
      " 2   gender  object\n",
      "dtypes: object(3)\n",
      "memory usage: 149.0+ MB\n"
     ]
    }
   ],
   "source": [
    "px_df = pd.read_csv(f\"{current_dir}/smd-ns-appointments/px.csv\", encoding='ISO-8859-1')\n",
    "\n",
    "px_df.info()"
   ]
  }
 ],
 "metadata": {
  "kernelspec": {
   "display_name": "Python 3",
   "language": "python",
   "name": "python3"
  },
  "language_info": {
   "codemirror_mode": {
    "name": "ipython",
    "version": 3
   },
   "file_extension": ".py",
   "mimetype": "text/x-python",
   "name": "python",
   "nbconvert_exporter": "python",
   "pygments_lexer": "ipython3",
   "version": "3.11.6"
  }
 },
 "nbformat": 4,
 "nbformat_minor": 2
}
