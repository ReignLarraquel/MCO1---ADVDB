{
 "cells": [
  {
   "cell_type": "markdown",
   "metadata": {},
   "source": [
    "## STADVDB GROUP 10\n",
    "# Members:\n",
    "* Wray Nathan Andres\n",
    "* Reign Elaiza Larraquel\n",
    "* Isaiah Sam Pascual\n",
    "* Benmar Sim Ramirez"
   ]
  },
  {
   "cell_type": "markdown",
   "metadata": {},
   "source": []
  },
  {
   "cell_type": "markdown",
   "metadata": {},
   "source": [
    "# Import"
   ]
  },
  {
   "cell_type": "code",
   "execution_count": null,
   "metadata": {},
   "outputs": [],
   "source": [
    "import pandas as pd\n",
    "import os \n",
    "\n",
    "current_dir = os.getcwd()"
   ]
  },
  {
   "cell_type": "markdown",
   "metadata": {},
   "source": [
    "# Reading the Data Set"
   ]
  },
  {
   "cell_type": "code",
   "execution_count": null,
   "metadata": {},
   "outputs": [],
   "source": [
    "clinics_df = pd.read_csv(f\"{current_dir}/smd-ns-appointments/clinics.csv\", encoding='ISO-8859-1')\n",
    "\n",
    "clinics_df.info()"
   ]
  },
  {
   "cell_type": "code",
   "execution_count": null,
   "metadata": {},
   "outputs": [],
   "source": [
    "px_df = pd.read_csv(f\"{current_dir}/smd-ns-appointments/px.csv\", encoding='ISO-8859-1')\n",
    "\n",
    "px_df.info()"
   ]
  },
  {
   "cell_type": "code",
   "execution_count": null,
   "metadata": {},
   "outputs": [],
   "source": [
    "doctors_df = pd.read_csv(f\"{current_dir}/smd-ns-appointments/doctors.csv\", encoding='ISO-8859-1')\n",
    "\n",
    "doctors_duplicate = doctors_df[doctors_df.duplicated()]\n",
    "\n",
    "print(doctors_duplicate)\n",
    "print(\"--------------------------------------------------------------------------------------\")\n",
    "print(doctors_df['age'].unique())\n",
    "print(\"--------------------------------------------------------------------------------------\")\n",
    "print(doctors_df['mainspecialty'].unique())\n",
    "\n",
    "doctors_df.info()"
   ]
  },
  {
   "cell_type": "markdown",
   "metadata": {},
   "source": [
    "# Cleaning of data"
   ]
  },
  {
   "cell_type": "markdown",
   "metadata": {},
   "source": [
    "Clinics"
   ]
  },
  {
   "cell_type": "code",
   "execution_count": null,
   "metadata": {},
   "outputs": [],
   "source": [
    "clinics_df = pd.read_csv(f\"{current_dir}/smd-ns-appointments/clinics.csv\", encoding='ISO-8859-1')\n",
    "\n",
    "print(clinics_df['RegionName'].unique())\n",
    "\n",
    "clinics_duplicate = clinics_df[clinics_df.duplicated()]\n",
    "\n",
    "print(clinics_duplicate)\n",
    "\n",
    "#clinics_df.info()"
   ]
  },
  {
   "cell_type": "code",
   "execution_count": null,
   "metadata": {},
   "outputs": [],
   "source": [
    "clinics_df['IsHospital'].value_counts()"
   ]
  },
  {
   "cell_type": "code",
   "execution_count": null,
   "metadata": {},
   "outputs": [],
   "source": [
    "clinics_df.shape"
   ]
  },
  {
   "cell_type": "code",
   "execution_count": null,
   "metadata": {},
   "outputs": [],
   "source": [
    "nan_variables = clinics_df.columns[clinics_df.isnull().any()].tolist()\n",
    "dropped_variables = list(set(nan_variables) - set('hospitalname'))\n",
    "print(dropped_variables)\n",
    "clinics_df = clinics_df.dropna(axis=0, subset=dropped_variables)"
   ]
  },
  {
   "cell_type": "code",
   "execution_count": 97,
   "metadata": {},
   "outputs": [
    {
     "data": {
      "text/plain": [
       "(17538, 6)"
      ]
     },
     "execution_count": 97,
     "metadata": {},
     "output_type": "execute_result"
    }
   ],
   "source": [
    "clinics_df.shape"
   ]
  },
  {
   "cell_type": "code",
   "execution_count": 98,
   "metadata": {},
   "outputs": [
    {
     "data": {
      "text/plain": [
       "Asian Hospital and Medical Center        466\n",
       "The Medical City                         460\n",
       "St. Luke's Medical Center-Global City    449\n",
       "Makati Medical Center                    425\n",
       "St. Luke's Medical Center-Quezon City    387\n",
       "                                        ... \n",
       "Dr. Cabuco Hospital                        1\n",
       "Davao Mediquest Hospital                   1\n",
       "Cabiao General Hospital, Inc.              1\n",
       "Mexico Community Hospital                  1\n",
       "Alegre Medical Clinic                      1\n",
       "Name: hospitalname, Length: 1127, dtype: int64"
      ]
     },
     "execution_count": 98,
     "metadata": {},
     "output_type": "execute_result"
    }
   ],
   "source": [
    "clinics_df['hospitalname'].value_counts()"
   ]
  },
  {
   "cell_type": "markdown",
   "metadata": {},
   "source": [
    "px"
   ]
  },
  {
   "cell_type": "code",
   "execution_count": 99,
   "metadata": {},
   "outputs": [
    {
     "name": "stderr",
     "output_type": "stream",
     "text": [
      "/tmp/ipykernel_94940/2663833823.py:1: DtypeWarning: Columns (1) have mixed types. Specify dtype option on import or set low_memory=False.\n",
      "  px_df = pd.read_csv(f\"{current_dir}/smd-ns-appointments/px.csv\", encoding='ISO-8859-1')\n"
     ]
    },
    {
     "name": "stdout",
     "output_type": "stream",
     "text": [
      "<class 'pandas.core.frame.DataFrame'>\n",
      "RangeIndex: 6507813 entries, 0 to 6507812\n",
      "Data columns (total 3 columns):\n",
      " #   Column  Dtype \n",
      "---  ------  ----- \n",
      " 0   pxid    object\n",
      " 1   age     object\n",
      " 2   gender  object\n",
      "dtypes: object(3)\n",
      "memory usage: 149.0+ MB\n"
     ]
    }
   ],
   "source": [
    "px_df = pd.read_csv(f\"{current_dir}/smd-ns-appointments/px.csv\", encoding='ISO-8859-1')\n",
    "\n",
    "px_df.info()"
   ]
  },
  {
   "cell_type": "code",
   "execution_count": 100,
   "metadata": {},
   "outputs": [
    {
     "name": "stdout",
     "output_type": "stream",
     "text": [
      "Dupes:\n"
     ]
    },
    {
     "data": {
      "text/plain": [
       "FEMALE    3642569\n",
       "MALE      2865243\n",
       "gender          1\n",
       "Name: gender, dtype: int64"
      ]
     },
     "execution_count": 100,
     "metadata": {},
     "output_type": "execute_result"
    }
   ],
   "source": [
    "px_dupes = px_df[px_df.duplicated()]\n",
    "\n",
    "print(\"Dupes:\")\n",
    "px_df['gender'].value_counts()\n",
    "\n"
   ]
  },
  {
   "cell_type": "code",
   "execution_count": 101,
   "metadata": {},
   "outputs": [
    {
     "name": "stdout",
     "output_type": "stream",
     "text": [
      "0         NCR\n",
      "1         NCR\n",
      "2         NCR\n",
      "3         NCR\n",
      "5        XIII\n",
      "         ... \n",
      "53921     NCR\n",
      "53926    IV-A\n",
      "53947     VII\n",
      "53951      XI\n",
      "53960     NCR\n",
      "Name: RegionName, Length: 17538, dtype: object\n"
     ]
    },
    {
     "data": {
      "text/plain": [
       "array(['NCR', 'XIII', 'II', 'VII', 'IV-A', 'I', 'VI', 'III', 'XI', 'XII',\n",
       "       'X', 'IX', 'VIII', 'CAR', 'V', 'IV-B', 'BARMM'], dtype=object)"
      ]
     },
     "execution_count": 101,
     "metadata": {},
     "output_type": "execute_result"
    }
   ],
   "source": [
    "clinics_df['RegionName'] = clinics_df['RegionName'].str.extract(r'\\((.*?)\\)')\n",
    "\n",
    "print(clinics_df['RegionName'])\n",
    "\n",
    "clinics_df['RegionName'] = clinics_df['RegionName'].replace({'Cotabato Region': 'XII'})\n",
    "\n",
    "clinics_df['RegionName'].unique()\n"
   ]
  },
  {
   "cell_type": "code",
   "execution_count": 107,
   "metadata": {},
   "outputs": [
    {
     "data": {
      "text/plain": [
       "Internal Medicine                           3812\n",
       "General Medicine                            2317\n",
       "Pediatrics                                  1709\n",
       "Family Medicine                              894\n",
       "General Physician                            881\n",
       "                                            ... \n",
       "General Physician (Pediatrics and Adult)       1\n",
       "Marc                                           1\n",
       "Orthopaedics (Bone and Joint Surgery)          1\n",
       "Generalists                                    1\n",
       "Allergist                                      1\n",
       "Name: mainspecialty, Length: 3974, dtype: int64"
      ]
     },
     "execution_count": 107,
     "metadata": {},
     "output_type": "execute_result"
    }
   ],
   "source": [
    "doctors_df['mainspecialty'].value_counts()"
   ]
  },
  {
   "cell_type": "code",
   "execution_count": 103,
   "metadata": {},
   "outputs": [
    {
     "data": {
      "text/plain": [
       "(6507813, 3)"
      ]
     },
     "execution_count": 103,
     "metadata": {},
     "output_type": "execute_result"
    }
   ],
   "source": [
    "px_df.shape"
   ]
  },
  {
   "cell_type": "code",
   "execution_count": 104,
   "metadata": {},
   "outputs": [],
   "source": [
    "px_df = px_df[px_df['gender'] != 'gender']"
   ]
  },
  {
   "cell_type": "code",
   "execution_count": 105,
   "metadata": {},
   "outputs": [
    {
     "data": {
      "text/plain": [
       "(6507812, 3)"
      ]
     },
     "execution_count": 105,
     "metadata": {},
     "output_type": "execute_result"
    }
   ],
   "source": [
    "px_df.shape"
   ]
  },
  {
   "cell_type": "code",
   "execution_count": 106,
   "metadata": {},
   "outputs": [
    {
     "data": {
      "text/plain": [
       "FEMALE    3642569\n",
       "MALE      2865243\n",
       "Name: gender, dtype: int64"
      ]
     },
     "execution_count": 106,
     "metadata": {},
     "output_type": "execute_result"
    }
   ],
   "source": [
    "px_df['gender'].value_counts()"
   ]
  }
 ],
 "metadata": {
  "kernelspec": {
   "display_name": "Python 3",
   "language": "python",
   "name": "python3"
  },
  "language_info": {
   "codemirror_mode": {
    "name": "ipython",
    "version": 3
   },
   "file_extension": ".py",
   "mimetype": "text/x-python",
   "name": "python",
   "nbconvert_exporter": "python",
   "pygments_lexer": "ipython3",
   "version": "3.11.6"
  }
 },
 "nbformat": 4,
 "nbformat_minor": 2
}
