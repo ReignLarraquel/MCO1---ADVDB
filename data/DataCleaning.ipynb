{
 "cells": [
  {
   "cell_type": "markdown",
   "metadata": {},
   "source": [
    "# STADVDB GROUP 10\n",
    "## Members:\n",
    "* Wray Nathan Andres\n",
    "* Reign Elaiza Larraquel\n",
    "* Isaiah Sam Pascual\n",
    "* Benmar Sim Ramirez"
   ]
  },
  {
   "cell_type": "markdown",
   "metadata": {},
   "source": []
  },
  {
   "cell_type": "markdown",
   "metadata": {},
   "source": [
    "## Import"
   ]
  },
  {
   "cell_type": "code",
   "execution_count": 2,
   "metadata": {},
   "outputs": [],
   "source": [
    "import pandas as pd\n",
    "import os \n",
    "\n",
    "current_dir = os.getcwd()"
   ]
  },
  {
   "cell_type": "markdown",
   "metadata": {},
   "source": [
    "## Reading the Data Set"
   ]
  },
  {
   "cell_type": "code",
   "execution_count": 3,
   "metadata": {},
   "outputs": [
    {
     "name": "stdout",
     "output_type": "stream",
     "text": [
      "<class 'pandas.core.frame.DataFrame'>\n",
      "RangeIndex: 53962 entries, 0 to 53961\n",
      "Data columns (total 6 columns):\n",
      " #   Column        Non-Null Count  Dtype \n",
      "---  ------        --------------  ----- \n",
      " 0   clinicid      53962 non-null  object\n",
      " 1   hospitalname  17538 non-null  object\n",
      " 2   IsHospital    53962 non-null  bool  \n",
      " 3   City          53962 non-null  object\n",
      " 4   Province      53962 non-null  object\n",
      " 5   RegionName    53962 non-null  object\n",
      "dtypes: bool(1), object(5)\n",
      "memory usage: 2.1+ MB\n"
     ]
    }
   ],
   "source": [
    "clinics_df = pd.read_csv(f\"{current_dir}/smd-ns-appointments/clinics.csv\", encoding='ISO-8859-1')\n",
    "\n",
    "clinics_df.info()"
   ]
  },
  {
   "cell_type": "code",
   "execution_count": 4,
   "metadata": {},
   "outputs": [
    {
     "name": "stderr",
     "output_type": "stream",
     "text": [
      "C:\\Users\\reign\\AppData\\Local\\Temp\\ipykernel_17264\\2663833823.py:1: DtypeWarning: Columns (1) have mixed types. Specify dtype option on import or set low_memory=False.\n",
      "  px_df = pd.read_csv(f\"{current_dir}/smd-ns-appointments/px.csv\", encoding='ISO-8859-1')\n"
     ]
    },
    {
     "name": "stdout",
     "output_type": "stream",
     "text": [
      "<class 'pandas.core.frame.DataFrame'>\n",
      "RangeIndex: 6507813 entries, 0 to 6507812\n",
      "Data columns (total 3 columns):\n",
      " #   Column  Dtype \n",
      "---  ------  ----- \n",
      " 0   pxid    object\n",
      " 1   age     object\n",
      " 2   gender  object\n",
      "dtypes: object(3)\n",
      "memory usage: 149.0+ MB\n"
     ]
    }
   ],
   "source": [
    "px_df = pd.read_csv(f\"{current_dir}/smd-ns-appointments/px.csv\", encoding='ISO-8859-1')\n",
    "\n",
    "px_df.info()"
   ]
  },
  {
   "cell_type": "code",
   "execution_count": 5,
   "metadata": {},
   "outputs": [
    {
     "name": "stdout",
     "output_type": "stream",
     "text": [
      "Empty DataFrame\n",
      "Columns: [doctorid, mainspecialty, age]\n",
      "Index: []\n",
      "--------------------------------------------------------------------------------------\n",
      "[  41.   43.   26.   34.   50.   62.   38.   57.   44.   59.   39.   49.\n",
      "   55.   37.   nan   40.   48.   51.   46.   45.   54.   61.   60.   31.\n",
      "   65.   36.   72.   64.   35.   47.   33.   68.   42.   73.   53.   58.\n",
      "   71.   52.   56.   67.   63.   66.   81.   69.  160.   70. 1048.   32.\n",
      "   91.   75.   30.   78.   76.   27.   29.   74.    8.    7.   28.  124.\n",
      "  123.   80.  113.   24.   25.   92.   77.  104.   23.   83.    4.   86.\n",
      "   88.   21.   22.   84.   79.  944.   17.  132.   85.  938.]\n",
      "--------------------------------------------------------------------------------------\n",
      "['General Medicine' 'Family Medicine' 'Vascular Medicine' ...\n",
      " 'Bone alignment therapy' 'Healot Biomekaniks' 'Allergist']\n",
      "<class 'pandas.core.frame.DataFrame'>\n",
      "RangeIndex: 60024 entries, 0 to 60023\n",
      "Data columns (total 3 columns):\n",
      " #   Column         Non-Null Count  Dtype  \n",
      "---  ------         --------------  -----  \n",
      " 0   doctorid       60024 non-null  object \n",
      " 1   mainspecialty  27055 non-null  object \n",
      " 2   age            20028 non-null  float64\n",
      "dtypes: float64(1), object(2)\n",
      "memory usage: 1.4+ MB\n"
     ]
    }
   ],
   "source": [
    "doctors_df = pd.read_csv(f\"{current_dir}/smd-ns-appointments/doctors.csv\", encoding='ISO-8859-1')\n",
    "\n",
    "doctors_duplicate = doctors_df[doctors_df.duplicated()]\n",
    "\n",
    "print(doctors_duplicate)\n",
    "print(\"--------------------------------------------------------------------------------------\")\n",
    "print(doctors_df['age'].unique())\n",
    "print(\"--------------------------------------------------------------------------------------\")\n",
    "print(doctors_df['mainspecialty'].unique())\n",
    "\n",
    "doctors_df.info()"
   ]
  },
  {
   "cell_type": "markdown",
   "metadata": {},
   "source": [
    "## Cleaning of data"
   ]
  },
  {
   "cell_type": "markdown",
   "metadata": {},
   "source": [
    "### Clinics Data Cleaning"
   ]
  },
  {
   "cell_type": "code",
   "execution_count": 22,
   "metadata": {},
   "outputs": [
    {
     "name": "stdout",
     "output_type": "stream",
     "text": [
      "<class 'pandas.core.frame.DataFrame'>\n",
      "Index: 17538 entries, 0 to 53960\n",
      "Data columns (total 6 columns):\n",
      " #   Column        Non-Null Count  Dtype \n",
      "---  ------        --------------  ----- \n",
      " 0   clinicid      17538 non-null  object\n",
      " 1   hospitalname  17538 non-null  object\n",
      " 2   IsHospital    17538 non-null  bool  \n",
      " 3   City          17538 non-null  object\n",
      " 4   Province      17538 non-null  object\n",
      " 5   RegionName    17538 non-null  object\n",
      "dtypes: bool(1), object(5)\n",
      "memory usage: 839.2+ KB\n"
     ]
    }
   ],
   "source": [
    "clinics_df.info()"
   ]
  },
  {
   "cell_type": "code",
   "execution_count": 23,
   "metadata": {},
   "outputs": [
    {
     "name": "stdout",
     "output_type": "stream",
     "text": [
      "['NCR' 'XIII' 'II' 'VII' 'IV-A' 'I' 'VI' 'III' 'XI' 'XII' 'X' 'IX' 'VIII'\n",
      " 'CAR' 'V' 'IV-B' 'BARMM']\n"
     ]
    }
   ],
   "source": [
    "print(clinics_df['RegionName'].unique())"
   ]
  },
  {
   "cell_type": "code",
   "execution_count": 24,
   "metadata": {},
   "outputs": [
    {
     "name": "stdout",
     "output_type": "stream",
     "text": [
      "Empty DataFrame\n",
      "Columns: [clinicid, hospitalname, IsHospital, City, Province, RegionName]\n",
      "Index: []\n"
     ]
    }
   ],
   "source": [
    "clinics_duplicate = clinics_df[clinics_df.duplicated()]\n",
    "print(clinics_duplicate)"
   ]
  },
  {
   "cell_type": "code",
   "execution_count": 7,
   "metadata": {},
   "outputs": [
    {
     "data": {
      "text/plain": [
       "IsHospital\n",
       "False    36424\n",
       "True     17538\n",
       "Name: count, dtype: int64"
      ]
     },
     "execution_count": 7,
     "metadata": {},
     "output_type": "execute_result"
    }
   ],
   "source": [
    "clinics_df['IsHospital'].value_counts()"
   ]
  },
  {
   "cell_type": "code",
   "execution_count": 8,
   "metadata": {},
   "outputs": [
    {
     "data": {
      "text/plain": [
       "(53962, 6)"
      ]
     },
     "execution_count": 8,
     "metadata": {},
     "output_type": "execute_result"
    }
   ],
   "source": [
    "clinics_df.shape"
   ]
  },
  {
   "cell_type": "code",
   "execution_count": 27,
   "metadata": {},
   "outputs": [
    {
     "name": "stdout",
     "output_type": "stream",
     "text": [
      "[]\n"
     ]
    }
   ],
   "source": [
    "nan_variables = clinics_df.columns[clinics_df.isnull().any()].tolist()\n",
    "dropped_variables = list(set(nan_variables) - set('hospitalname'))\n",
    "print(dropped_variables)"
   ]
  },
  {
   "cell_type": "code",
   "execution_count": 25,
   "metadata": {},
   "outputs": [],
   "source": [
    "clinics_df = clinics_df.dropna(axis=0, subset=dropped_variables)"
   ]
  },
  {
   "cell_type": "code",
   "execution_count": 10,
   "metadata": {},
   "outputs": [
    {
     "data": {
      "text/plain": [
       "(17538, 6)"
      ]
     },
     "execution_count": 10,
     "metadata": {},
     "output_type": "execute_result"
    }
   ],
   "source": [
    "clinics_df.shape"
   ]
  },
  {
   "cell_type": "code",
   "execution_count": 11,
   "metadata": {},
   "outputs": [
    {
     "data": {
      "text/plain": [
       "hospitalname\n",
       "Asian Hospital and Medical Center        466\n",
       "The Medical City                         460\n",
       "St. Luke's Medical Center-Global City    449\n",
       "Makati Medical Center                    425\n",
       "St. Luke's Medical Center-Quezon City    387\n",
       "                                        ... \n",
       "Dr. Cabuco Hospital                        1\n",
       "Davao Mediquest Hospital                   1\n",
       "Cabiao General Hospital, Inc.              1\n",
       "Mexico Community Hospital                  1\n",
       "Alegre Medical Clinic                      1\n",
       "Name: count, Length: 1127, dtype: int64"
      ]
     },
     "execution_count": 11,
     "metadata": {},
     "output_type": "execute_result"
    }
   ],
   "source": [
    "clinics_df['hospitalname'].value_counts()"
   ]
  },
  {
   "cell_type": "code",
   "execution_count": 31,
   "metadata": {},
   "outputs": [
    {
     "name": "stdout",
     "output_type": "stream",
     "text": [
      "0        NaN\n",
      "1        NaN\n",
      "2        NaN\n",
      "3        NaN\n",
      "5        NaN\n",
      "        ... \n",
      "53921    NaN\n",
      "53926    NaN\n",
      "53947    NaN\n",
      "53951    NaN\n",
      "53960    NaN\n",
      "Name: RegionName, Length: 17538, dtype: object\n"
     ]
    }
   ],
   "source": [
    "clinics_df['RegionName'] = clinics_df['RegionName'].str.extract(r'\\((.*?)\\)')\n",
    "print(clinics_df['RegionName'])"
   ]
  },
  {
   "cell_type": "code",
   "execution_count": 32,
   "metadata": {},
   "outputs": [],
   "source": [
    "clinics_df['RegionName'] = clinics_df['RegionName'].replace({'Cotabato Region': 'XII'})"
   ]
  },
  {
   "cell_type": "code",
   "execution_count": 33,
   "metadata": {},
   "outputs": [
    {
     "data": {
      "text/plain": [
       "array([nan])"
      ]
     },
     "execution_count": 33,
     "metadata": {},
     "output_type": "execute_result"
    }
   ],
   "source": [
    "clinics_df['RegionName'].unique()"
   ]
  },
  {
   "cell_type": "markdown",
   "metadata": {},
   "source": [
    "### PX Data Cleaning"
   ]
  },
  {
   "cell_type": "code",
   "execution_count": 28,
   "metadata": {},
   "outputs": [
    {
     "name": "stdout",
     "output_type": "stream",
     "text": [
      "<class 'pandas.core.frame.DataFrame'>\n",
      "Index: 6507812 entries, 0 to 6507812\n",
      "Data columns (total 3 columns):\n",
      " #   Column  Dtype \n",
      "---  ------  ----- \n",
      " 0   pxid    object\n",
      " 1   age     object\n",
      " 2   gender  object\n",
      "dtypes: object(3)\n",
      "memory usage: 198.6+ MB\n"
     ]
    }
   ],
   "source": [
    "px_df.info()"
   ]
  },
  {
   "cell_type": "code",
   "execution_count": 30,
   "metadata": {},
   "outputs": [
    {
     "data": {
      "text/plain": [
       "gender\n",
       "FEMALE    3642569\n",
       "MALE      2865243\n",
       "Name: count, dtype: int64"
      ]
     },
     "execution_count": 30,
     "metadata": {},
     "output_type": "execute_result"
    }
   ],
   "source": [
    "px_df['gender'].value_counts()"
   ]
  },
  {
   "cell_type": "code",
   "execution_count": 16,
   "metadata": {},
   "outputs": [
    {
     "data": {
      "text/plain": [
       "(6507813, 3)"
      ]
     },
     "execution_count": 16,
     "metadata": {},
     "output_type": "execute_result"
    }
   ],
   "source": [
    "px_df.shape"
   ]
  },
  {
   "cell_type": "code",
   "execution_count": 17,
   "metadata": {},
   "outputs": [],
   "source": [
    "px_df = px_df[px_df['gender'] != 'gender']"
   ]
  },
  {
   "cell_type": "code",
   "execution_count": 18,
   "metadata": {},
   "outputs": [
    {
     "data": {
      "text/plain": [
       "(6507812, 3)"
      ]
     },
     "execution_count": 18,
     "metadata": {},
     "output_type": "execute_result"
    }
   ],
   "source": [
    "px_df.shape"
   ]
  },
  {
   "cell_type": "code",
   "execution_count": 19,
   "metadata": {},
   "outputs": [
    {
     "data": {
      "text/plain": [
       "gender\n",
       "FEMALE    3642569\n",
       "MALE      2865243\n",
       "Name: count, dtype: int64"
      ]
     },
     "execution_count": 19,
     "metadata": {},
     "output_type": "execute_result"
    }
   ],
   "source": [
    "px_df['gender'].value_counts()"
   ]
  },
  {
   "cell_type": "markdown",
   "metadata": {},
   "source": [
    "### Doctors Data Cleaning"
   ]
  },
  {
   "cell_type": "code",
   "execution_count": 34,
   "metadata": {},
   "outputs": [
    {
     "name": "stdout",
     "output_type": "stream",
     "text": [
      "<class 'pandas.core.frame.DataFrame'>\n",
      "RangeIndex: 60024 entries, 0 to 60023\n",
      "Data columns (total 3 columns):\n",
      " #   Column         Non-Null Count  Dtype  \n",
      "---  ------         --------------  -----  \n",
      " 0   doctorid       60024 non-null  object \n",
      " 1   mainspecialty  27055 non-null  object \n",
      " 2   age            20028 non-null  float64\n",
      "dtypes: float64(1), object(2)\n",
      "memory usage: 1.4+ MB\n"
     ]
    }
   ],
   "source": [
    "doctors_df.info()"
   ]
  },
  {
   "cell_type": "code",
   "execution_count": 15,
   "metadata": {},
   "outputs": [
    {
     "data": {
      "text/plain": [
       "mainspecialty\n",
       "Internal Medicine                           3812\n",
       "General Medicine                            2317\n",
       "Pediatrics                                  1709\n",
       "Family Medicine                              894\n",
       "General Physician                            881\n",
       "                                            ... \n",
       "General Physician (Pediatrics and Adult)       1\n",
       "Marc                                           1\n",
       "Orthopaedics (Bone and Joint Surgery)          1\n",
       "Generalists                                    1\n",
       "Allergist                                      1\n",
       "Name: count, Length: 3973, dtype: int64"
      ]
     },
     "execution_count": 15,
     "metadata": {},
     "output_type": "execute_result"
    }
   ],
   "source": [
    "doctors_df['mainspecialty'].value_counts()"
   ]
  },
  {
   "cell_type": "code",
   "execution_count": 35,
   "metadata": {},
   "outputs": [
    {
     "data": {
      "text/plain": [
       "age\n",
       "34.0     1215\n",
       "35.0     1082\n",
       "33.0      973\n",
       "37.0      971\n",
       "36.0      953\n",
       "         ... \n",
       "91.0        1\n",
       "124.0       1\n",
       "123.0       1\n",
       "92.0        1\n",
       "938.0       1\n",
       "Name: count, Length: 81, dtype: int64"
      ]
     },
     "execution_count": 35,
     "metadata": {},
     "output_type": "execute_result"
    }
   ],
   "source": [
    "doctors_df['age'].value_counts()"
   ]
  },
  {
   "cell_type": "code",
   "execution_count": 43,
   "metadata": {},
   "outputs": [
    {
     "name": "stdout",
     "output_type": "stream",
     "text": [
      "                               doctorid  \\\n",
      "318    F73B76CE8949FE29BF2A537CFA420E8F   \n",
      "484    1BB91F73E9D31EA2830A5E73CE3ED328   \n",
      "1727   CD14821DAB219EA06E2FD1A2DF2E3582   \n",
      "1934   D7A84628C025D30F7B2C52C958767E76   \n",
      "3038   8B313CBF30999888DE32DA1EC83FF503   \n",
      "3066   1160453108D3E537255E9F7B931F4E90   \n",
      "5598   674F3C2C1A8A6F90461E8A66FB5550BA   \n",
      "8415   3488330BA18D83E3D0AB177178CA66EB   \n",
      "31154  88D619AD97413B44D6659073B7B12F32   \n",
      "35035  C726062049174DD685BBB960958FA1C1   \n",
      "59136  B02EE9D17C3B943AFFA39F55282793FC   \n",
      "\n",
      "                                     mainspecialty     age  \n",
      "318                               Family medicines   160.0  \n",
      "484                      Obstetrics and Gynecology  1048.0  \n",
      "1727                                  internal med   124.0  \n",
      "1934                                             1   123.0  \n",
      "3038                                         OBGYN   113.0  \n",
      "3066                                            In   113.0  \n",
      "5598                                      Internal   104.0  \n",
      "8415                             Internal Medicine   104.0  \n",
      "31154                                           OB   944.0  \n",
      "35035                                          NaN   132.0  \n",
      "59136  Psychology, Psychotherapy, EAP, Counselling   938.0  \n"
     ]
    }
   ],
   "source": [
    "age_range = doctors_df[doctors_df['age'] > 100]\n",
    "print(age_range)"
   ]
  },
  {
   "cell_type": "markdown",
   "metadata": {},
   "source": [
    "Export to CSV"
   ]
  },
  {
   "cell_type": "code",
   "execution_count": 21,
   "metadata": {},
   "outputs": [],
   "source": [
    "clinics_df.to_csv('cleaned/clinics.csv', index=False)\n",
    "px_df.to_csv('cleaned/px.csv', index=False)\n",
    "doctors_df.to_csv('cleaned/doctors.csv', index=False)"
   ]
  }
 ],
 "metadata": {
  "kernelspec": {
   "display_name": "Python 3",
   "language": "python",
   "name": "python3"
  },
  "language_info": {
   "codemirror_mode": {
    "name": "ipython",
    "version": 3
   },
   "file_extension": ".py",
   "mimetype": "text/x-python",
   "name": "python",
   "nbconvert_exporter": "python",
   "pygments_lexer": "ipython3",
   "version": "3.11.8"
  }
 },
 "nbformat": 4,
 "nbformat_minor": 2
}
